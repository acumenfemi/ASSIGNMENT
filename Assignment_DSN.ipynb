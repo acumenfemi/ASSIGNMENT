{
 "cells": [
  {
   "cell_type": "code",
   "execution_count": 1,
   "metadata": {},
   "outputs": [
    {
     "name": "stdout",
     "output_type": "stream",
     "text": [
      "hello world\n"
     ]
    }
   ],
   "source": [
    "#question one\n",
    "\n",
    "a= 'hello world'\n",
    "print(a)"
   ]
  },
  {
   "cell_type": "code",
   "execution_count": 5,
   "metadata": {},
   "outputs": [
    {
     "name": "stdout",
     "output_type": "stream",
     "text": [
      "what is your nameFemi\n",
      "hello Femi\n"
     ]
    }
   ],
   "source": [
    "#Question two\n",
    "\n",
    "b=input('what is your name')\n",
    "greeting=print('hello',b)\n"
   ]
  },
  {
   "cell_type": "code",
   "execution_count": 6,
   "metadata": {},
   "outputs": [
    {
     "data": {
      "text/plain": [
       "4"
      ]
     },
     "execution_count": 6,
     "metadata": {},
     "output_type": "execute_result"
    }
   ],
   "source": [
    "#Question three\n",
    "len(b)"
   ]
  },
  {
   "cell_type": "code",
   "execution_count": 13,
   "metadata": {},
   "outputs": [
    {
     "data": {
      "text/plain": [
       "'dinosaur'"
      ]
     },
     "execution_count": 13,
     "metadata": {},
     "output_type": "execute_result"
    }
   ],
   "source": [
    "#Question four\n",
    "\n",
    "my_pet='Dinosaur'\n",
    "my_pet.casefold()"
   ]
  },
  {
   "cell_type": "code",
   "execution_count": 14,
   "metadata": {},
   "outputs": [
    {
     "data": {
      "text/plain": [
       "'DINOSAUR'"
      ]
     },
     "execution_count": 14,
     "metadata": {},
     "output_type": "execute_result"
    }
   ],
   "source": [
    "my_pet.upper()"
   ]
  },
  {
   "cell_type": "code",
   "execution_count": 40,
   "metadata": {},
   "outputs": [
    {
     "name": "stdout",
     "output_type": "stream",
     "text": [
      "what is your age10\n",
      "you're lucky to be here\n"
     ]
    }
   ],
   "source": [
    "#Question five\n",
    "\n",
    "age= int(input(\"what is your age\"))\n",
    "if age<12:\n",
    "    print(\"you're lucky to be here\")\n",
    "elif age >=12 and age<=20:\n",
    "    print(\"Make good use of this opportunity\")\n",
    "else:\n",
    "    print(\"Learning is a continous process, start learning\")\n",
    "      "
   ]
  },
  {
   "cell_type": "code",
   "execution_count": 70,
   "metadata": {},
   "outputs": [
    {
     "name": "stdout",
     "output_type": "stream",
     "text": [
      "Comment on this match\n",
      "what is the scores for team A?7\n",
      "what is the scores for team B?5\n",
      "The football match was an unmissable game!\n",
      "Thank you for watching this game\n"
     ]
    }
   ],
   "source": [
    "#Question six\n",
    "\n",
    "print('Comment on this match')\n",
    "team_a=int(input('what is the scores for team A?'))\n",
    "team_b=int(input('what is the scores for team B?'))\n",
    "if team_a==0 and team_b==0:\n",
    "    print(\"the game was a bore draw!\")\n",
    "if team_a+ team_b <=2:\n",
    "    print(\"Not the most interesting game\")\n",
    "if team_a+team_b>=3 and team_a+team_b<=5:\n",
    "    print(\"It was a very interesting game\")\n",
    "if team_a+team_b >=6:\n",
    "    print(\"The football match was an unmissable game!\")\n",
    "print(\"Thank you for watching this game\")\n"
   ]
  },
  {
   "cell_type": "code",
   "execution_count": 73,
   "metadata": {},
   "outputs": [
    {
     "name": "stdout",
     "output_type": "stream",
     "text": [
      "what is your number?2.5\n",
      "6.25\n"
     ]
    }
   ],
   "source": [
    "#Question seven\n",
    "\n",
    "a= float(input('what is your number?'))\n",
    "if a>0:\n",
    "    print(a**2)"
   ]
  },
  {
   "cell_type": "code",
   "execution_count": 76,
   "metadata": {},
   "outputs": [
    {
     "name": "stdout",
     "output_type": "stream",
     "text": [
      "Enter the first number4\n",
      "Enter the second number2.5\n",
      "choose any of the following operations /n '1' addition/n '2' sutraction/n '3' multiplication/n '4' division3\n",
      "10.0\n",
      "THANK YOU FOR USING OUR CALCULATOR\n"
     ]
    }
   ],
   "source": [
    "#Question eight\n",
    "\n",
    "a=('WELCOME TO OUR CALCULATOR')\n",
    "b=float(input(\"Enter the first number\"))\n",
    "c=float(input(\"Enter the second number\"))\n",
    "choose=int(input(\"choose any of the following operations /n '1' addition/n '2' sutraction/n '3' multiplication/n '4' division\"))\n",
    "if choose==1:\n",
    "    print(b+c)\n",
    "if choose==2:\n",
    "    print(b-c)\n",
    "if choose==3:\n",
    "    print(b*c)\n",
    "if choose==4:\n",
    "    print(a/b)\n",
    "print(\"THANK YOU FOR USING OUR CALCULATOR\")"
   ]
  },
  {
   "cell_type": "code",
   "execution_count": null,
   "metadata": {},
   "outputs": [],
   "source": []
  }
 ],
 "metadata": {
  "kernelspec": {
   "display_name": "Python 3",
   "language": "python",
   "name": "python3"
  },
  "language_info": {
   "codemirror_mode": {
    "name": "ipython",
    "version": 3
   },
   "file_extension": ".py",
   "mimetype": "text/x-python",
   "name": "python",
   "nbconvert_exporter": "python",
   "pygments_lexer": "ipython3",
   "version": "3.7.3"
  }
 },
 "nbformat": 4,
 "nbformat_minor": 2
}
