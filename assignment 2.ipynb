{
 "cells": [
  {
   "cell_type": "markdown",
   "metadata": {},
   "source": [
    "#\n",
    "1.Write a program that prints the numbers from 1 to 100. But for multiples of three print “Multiples of 3” instead of the number and for the multiples of five print “Multiples of 5”. For numbers which are multiples of both three and five print “Multiples of 3 and 5”.\n",
    "\n",
    "2.Write a program that prints out the sum of values between 1 and 100.\n",
    "\n",
    "3.Write a Python program to convert temperatures to and from celsius, fahrenheit. [Formula : c/5 = f-32/9 [ where c = temperature in celsius and f = temperature in fahrenheit]"
   ]
  },
  {
   "cell_type": "code",
   "execution_count": 20,
   "metadata": {},
   "outputs": [
    {
     "name": "stdout",
     "output_type": "stream",
     "text": [
      "1\n",
      "2\n",
      "Multiples of 3\n",
      "3\n",
      "4\n",
      "Multiple of 5\n",
      "Multiple of 3 and 5\n",
      "Multiples of 3\n",
      "6\n",
      "7\n",
      "8\n",
      "Multiples of 3\n",
      "9\n",
      "Multiple of 5\n",
      "Multiple of 3 and 5\n",
      "11\n",
      "Multiples of 3\n",
      "12\n",
      "13\n",
      "14\n",
      "Multiples of 3\n",
      "15\n",
      "16\n",
      "17\n",
      "Multiples of 3\n",
      "18\n",
      "19\n",
      "Multiple of 5\n",
      "Multiple of 3 and 5\n",
      "Multiples of 3\n",
      "21\n",
      "22\n",
      "23\n",
      "Multiples of 3\n",
      "24\n",
      "Multiple of 5\n",
      "Multiple of 3 and 5\n",
      "26\n",
      "Multiples of 3\n",
      "27\n",
      "28\n",
      "29\n",
      "Multiples of 3\n",
      "30\n",
      "31\n",
      "32\n",
      "Multiples of 3\n",
      "33\n",
      "34\n",
      "Multiple of 5\n",
      "Multiple of 3 and 5\n",
      "Multiples of 3\n",
      "36\n",
      "37\n",
      "38\n",
      "Multiples of 3\n",
      "39\n",
      "Multiple of 5\n",
      "Multiple of 3 and 5\n",
      "41\n",
      "Multiples of 3\n",
      "42\n",
      "43\n",
      "44\n",
      "Multiples of 3\n",
      "45\n",
      "46\n",
      "47\n",
      "Multiples of 3\n",
      "48\n",
      "49\n",
      "Multiple of 5\n",
      "Multiple of 3 and 5\n",
      "Multiples of 3\n",
      "51\n",
      "52\n",
      "53\n",
      "Multiples of 3\n",
      "54\n",
      "Multiple of 5\n",
      "Multiple of 3 and 5\n",
      "56\n",
      "Multiples of 3\n",
      "57\n",
      "58\n",
      "59\n",
      "Multiples of 3\n",
      "60\n",
      "61\n",
      "62\n",
      "Multiples of 3\n",
      "63\n",
      "64\n",
      "Multiple of 5\n",
      "Multiple of 3 and 5\n",
      "Multiples of 3\n",
      "66\n",
      "67\n",
      "68\n",
      "Multiples of 3\n",
      "69\n",
      "Multiple of 5\n",
      "Multiple of 3 and 5\n",
      "71\n",
      "Multiples of 3\n",
      "72\n",
      "73\n",
      "74\n",
      "Multiples of 3\n",
      "75\n",
      "76\n",
      "77\n",
      "Multiples of 3\n",
      "78\n",
      "79\n",
      "Multiple of 5\n",
      "Multiple of 3 and 5\n",
      "Multiples of 3\n",
      "81\n",
      "82\n",
      "83\n",
      "Multiples of 3\n",
      "84\n",
      "Multiple of 5\n",
      "Multiple of 3 and 5\n",
      "86\n",
      "Multiples of 3\n",
      "87\n",
      "88\n",
      "89\n",
      "Multiples of 3\n",
      "90\n",
      "91\n",
      "92\n",
      "Multiples of 3\n",
      "93\n",
      "94\n",
      "Multiple of 5\n",
      "Multiple of 3 and 5\n",
      "Multiples of 3\n",
      "96\n",
      "97\n",
      "98\n",
      "Multiples of 3\n",
      "99\n",
      "Multiple of 5\n",
      "Multiple of 3 and 5\n"
     ]
    },
    {
     "data": {
      "text/plain": [
       "'THIS IS THE END'"
      ]
     },
     "execution_count": 20,
     "metadata": {},
     "output_type": "execute_result"
    }
   ],
   "source": [
    "# solution to question 1\n",
    "for num in range (1,101):\n",
    "        if num%3==0:\n",
    "            print('Multiples of 3')\n",
    "        elif num %5 ==0:\n",
    "            print('Multiple of 5')\n",
    "        if num%3 and num%5==0:\n",
    "            print('Multiple of 3 and 5')\n",
    "        else:\n",
    "            print(num)\n",
    "a='This is the end'\n",
    "a.upper()\n",
    "            \n",
    "            "
   ]
  },
  {
   "cell_type": "code",
   "execution_count": 24,
   "metadata": {},
   "outputs": [
    {
     "name": "stdout",
     "output_type": "stream",
     "text": [
      "The sum of numbers from 1 to 100 is: 5050\n"
     ]
    }
   ],
   "source": [
    "#solution to question 2\n",
    "\n",
    "sum=0\n",
    "for i in range(1,101):\n",
    "    sum+=i\n",
    "print('The sum of numbers from 1 to 100 is:',sum)"
   ]
  },
  {
   "cell_type": "code",
   "execution_count": 17,
   "metadata": {},
   "outputs": [
    {
     "name": "stdout",
     "output_type": "stream",
     "text": [
      "what is the temperature in Celcius? \n",
      "50\n",
      "temperature is 122.0 fahrenheit\n"
     ]
    }
   ],
   "source": [
    "#solution to question 3\n",
    "#conversion from celscius to fahrenheit\n",
    "\n",
    "C=int(input('what is the temperature in Celcius? \\n'))\n",
    "F= (9/5)*C + 32\n",
    "print('temperature is {} fahrenheit'.format(F))"
   ]
  },
  {
   "cell_type": "code",
   "execution_count": 21,
   "metadata": {},
   "outputs": [
    {
     "name": "stdout",
     "output_type": "stream",
     "text": [
      "what is the temperature in Fahrenheit? \n",
      "122\n",
      "temperature is 50.00000000000001 celcius\n"
     ]
    }
   ],
   "source": [
    "#conversion from fahrenheit to celcius\n",
    "\n",
    "F=int(input('what is the temperature in Fahrenheit? \\n'))\n",
    "C= (5/9)*F -(160/9)\n",
    "print('temperature is {} celcius'.format(C))\n"
   ]
  },
  {
   "cell_type": "code",
   "execution_count": null,
   "metadata": {},
   "outputs": [],
   "source": []
  }
 ],
 "metadata": {
  "kernelspec": {
   "display_name": "Python 3",
   "language": "python",
   "name": "python3"
  },
  "language_info": {
   "codemirror_mode": {
    "name": "ipython",
    "version": 3
   },
   "file_extension": ".py",
   "mimetype": "text/x-python",
   "name": "python",
   "nbconvert_exporter": "python",
   "pygments_lexer": "ipython3",
   "version": "3.7.3"
  }
 },
 "nbformat": 4,
 "nbformat_minor": 2
}
