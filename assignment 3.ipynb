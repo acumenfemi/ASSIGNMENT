{
 "cells": [
  {
   "cell_type": "code",
   "execution_count": null,
   "metadata": {},
   "outputs": [],
   "source": [
    "# ASSIGNMENT 3\n",
    "\n",
    "Given that\n",
    "> A = [5, 8, 15, 7, 3]\n",
    "> Months = ['January', 'February', 'DSN', 'March', 'April', 'May', 'June', 'July','August', 'September', 'October', 'November']\n",
    "\n",
    "1. Write a Python program to sum all the items in A\n",
    "2. Write a Python program to \n",
    "    * Get Months sorted in increasing order\n",
    "    * Add **December** to months\n",
    "    * Reverse elements of Months\n",
    "    * remove/delete 'DSN' form months    \n"
   ]
  },
  {
   "cell_type": "code",
   "execution_count": 1,
   "metadata": {},
   "outputs": [
    {
     "name": "stdout",
     "output_type": "stream",
     "text": [
      "38\n"
     ]
    }
   ],
   "source": [
    "#solution\n",
    "#question1\n",
    "\n",
    "A=[5,8,15,7,3]\n",
    "print(sum(A))\n"
   ]
  },
  {
   "cell_type": "code",
   "execution_count": 11,
   "metadata": {},
   "outputs": [
    {
     "name": "stdout",
     "output_type": "stream",
     "text": [
      "['January', 'February', 'DSN', 'March', 'April', 'May', 'June', 'July', 'August', 'September', 'October', 'November', 'December']\n"
     ]
    }
   ],
   "source": [
    "#program to add December to month\n",
    "\n",
    "Months = ['January', 'February', 'DSN', 'March', 'April', 'May', 'June', 'July','August', 'September', 'October', 'November']\n",
    "add=['December']\n",
    "result= Months+add\n",
    "print(result)"
   ]
  },
  {
   "cell_type": "code",
   "execution_count": 17,
   "metadata": {},
   "outputs": [
    {
     "name": "stdout",
     "output_type": "stream",
     "text": [
      "['November', 'October', 'September', 'August', 'July', 'June', 'May', 'April', 'March', 'DSN', 'February', 'January']\n"
     ]
    }
   ],
   "source": [
    "#program to reverse elements of Months\n",
    "\n",
    "Months = ['January', 'February', 'DSN', 'March', 'April', 'May', 'June', 'July','August', 'September', 'October', 'November']\n",
    "print(Months[::-1])"
   ]
  },
  {
   "cell_type": "code",
   "execution_count": 28,
   "metadata": {},
   "outputs": [
    {
     "name": "stdout",
     "output_type": "stream",
     "text": [
      "['January', 'February', 'March', 'April', 'May', 'June', 'July', 'August', 'September', 'October', 'November']\n"
     ]
    }
   ],
   "source": [
    "#program to remove/delete DSN from Months\n",
    "\n",
    "Months = ['January', 'February', 'DSN', 'March', 'April', 'May', 'June', 'July','August', 'September', 'October', 'November']\n",
    "del Months[2]\n",
    "print(Months)"
   ]
  },
  {
   "cell_type": "code",
   "execution_count": null,
   "metadata": {},
   "outputs": [],
   "source": []
  }
 ],
 "metadata": {
  "kernelspec": {
   "display_name": "Python 3",
   "language": "python",
   "name": "python3"
  },
  "language_info": {
   "codemirror_mode": {
    "name": "ipython",
    "version": 3
   },
   "file_extension": ".py",
   "mimetype": "text/x-python",
   "name": "python",
   "nbconvert_exporter": "python",
   "pygments_lexer": "ipython3",
   "version": "3.7.3"
  }
 },
 "nbformat": 4,
 "nbformat_minor": 2
}
